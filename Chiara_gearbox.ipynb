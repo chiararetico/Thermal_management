{
 "cells": [
  {
   "cell_type": "markdown",
   "metadata": {},
   "source": [
    "#### **Gearbox Model** : \n",
    "\n",
    "The main purpose of the gearbox is to reduce rotational speed while increasing torque in a mechanical system.\n",
    "The estimation model of the gearbox is based on analytical results founded by Willis JR (insert reference). The method presented identifies the gear sizes and ratios that will allow the lightest possible design.\n",
    "\n",
    "Moreover, it also gives a good estimation of total weight of the drive, including shaft, bearings and housing.\n",
    "\n",
    "Willis starts on the assumption that the weight of a gear system is approximately proportional to the sum of the solid rotor volumes. In particular, for a simple offset gearbox it can be obtained that:\n",
    "\n",
    "$\\sum \\frac{Fd^2}{C} = 1+\\frac{1}{m_g}+m_g+m_g^2+$, where $\\frac{Fd^2}{C}$ represents the weight factor, $C = \\frac{2T}{K}$, $m_g$ is the total reduction ratio.\n",
    "\n",
    "K is a factor that depends on materials, severity of service, desired life and applications and in our case the value of 6.9E+6 is taken as a guide.\n",
    "\n",
    "This approach can be extended for obtaining the weight factor for a gear system with three gears: offset with idler; for which:\n",
    "$\\sum \\frac{Fd^2}{C} = 1+\\frac{1}{m_g}+m_g+m_g^2+\\frac{M_0^2}{m_g}+M_0^2$, where $M_0$ is the total reduction ratio and $m_g$ is the ratio of pinion to idler diameter. \n",
    "\n",
    "\n",
    "The first parameter that needs to be evaluated is the total reduction ratio $\\frac{\\omega_{in}}{\\omega_{out}}$ and in our case, taking into account the optimal reference motor RPM, it results to be around 1,7.  \n",
    "\n",
    "The reduction ratio and the motot torque are taken as input design parameters.\n",
    "\n"
   ]
  },
  {
   "cell_type": "markdown",
   "metadata": {},
   "source": [
    "For the second case the pinion to idler diameters ratio $m_g$ can be computed according to the minimum weigth equation:\n",
    "$2m_g^3+m_g^2 = M_0^2+1$ \n",
    "\n",
    "The gear mass is:\n",
    "$M = k_{SI}A_f\\sum Fd^2$, where $k_{SI}$ = 6.1E+4 is a conversion coefficient (Willis refers to a different unit system) and $A_f$ is the application factor normally taken between 0.25 to 0.3."
   ]
  },
  {
   "cell_type": "markdown",
   "metadata": {},
   "source": [
    "### **Offset with idler gearbox model**:"
   ]
  },
  {
   "cell_type": "code",
   "execution_count": 14,
   "metadata": {},
   "outputs": [
    {
     "name": "stdout",
     "output_type": "stream",
     "text": [
      "Gear mass =  [43.45112835] kg\n"
     ]
    }
   ],
   "source": [
    "from scipy.optimize import fsolve\n",
    "\n",
    "def offset_with_idler():\n",
    "\n",
    "    M0 = 3750/2200       #optimal motor RPM wrt propeller RPM\n",
    "\n",
    "    def func(x):\n",
    "        return x*3+x**2-M0**2-1\n",
    "\n",
    "    mg = fsolve(func, 0) #pinion to idler diameters ratio\n",
    "    T = 1000             #motor reference torque [Nm]\n",
    "    K = 6.9*10**6        #coefficient\n",
    "    Fd2 = 2*T/K*(1+1/mg+mg+mg**2+M0**2/mg+M0**2)        #weight factor\n",
    "\n",
    "    ksi = 6.1*10**4      #conversion coefficient\n",
    "    Af = 0.25            #application factor\n",
    "    M = ksi*Af*Fd2       #gear mass\n",
    "    print('Gear mass = ', M, 'kg')\n",
    "    return \n",
    "\n",
    "offset_with_idler()"
   ]
  },
  {
   "cell_type": "markdown",
   "metadata": {},
   "source": [
    "### **Simple offset gearbox model**:"
   ]
  },
  {
   "cell_type": "code",
   "execution_count": 7,
   "metadata": {},
   "outputs": [
    {
     "name": "stdout",
     "output_type": "stream",
     "text": [
      "for a reduction ratio =  1.7045454545454546 the weigth factor =  6.196687327823692 is in line with the graph in the article\n",
      "Gear mass =  27.391154130235158 kg\n",
      "Lifetime =  302.3763024935018 hours - with maximum thrust\n",
      "Lifetime =  4319.210991713724 hours - with average thrust\n"
     ]
    }
   ],
   "source": [
    "from scipy.optimize import fsolve\n",
    "\n",
    "def offset():\n",
    "\n",
    "    M0 = 3750/2200       #optimal motor RPM wrt propeller RPM\n",
    "\n",
    "    mg = M0\n",
    "    T = 1000             #motor reference torque [Nm]\n",
    "    K = 6.9*10**6        #coefficient\n",
    "    Fd2 = 2*T/K*(1+1/mg+mg+mg**2)        #weight factor\n",
    "\n",
    "    C = 2*T/K\n",
    "    print('for a reduction ratio = ', M0, 'the weigth factor = ', Fd2/C, 'is in line with the graph in the article')\n",
    "\n",
    "    ksi = 6.1*10**4      #conversion coefficient\n",
    "    Af = 0.25            #application factor\n",
    "    M = ksi*Af*Fd2       #gear mass\n",
    "    print('Gear mass = ', M, 'kg')\n",
    "    return \n",
    "\n",
    "offset()\n",
    "\n",
    "\n",
    "def bearing(Thrust, T_ave, k):\n",
    "    #Thrust is the maximum thrust\n",
    "    #T_ave is the average thrust (not linear but <T>^3)\n",
    "\n",
    "    C0_ref = 12.2*10**3\n",
    "    C0_SL = Thrust*k/C0_ref\n",
    "    M_SL = C0_SL**(3/2)\n",
    "    l_SL = C0_SL**(1/2)\n",
    "    Cd_SL = C0_SL**(1.8/2)\n",
    "\n",
    "    M_ref = 0.02\n",
    "    D_ext_ref = 24*10**(-3)\n",
    "    Cd_ref = 8.71*10**3\n",
    "\n",
    "    M = M_ref*M_SL\n",
    "    D_ext = D_ext_ref*l_SL\n",
    "    Cd = Cd_ref*Cd_SL\n",
    "\n",
    "    \n",
    "    L10 = (Cd/Thrust)**3*10**6/(60*2250)\n",
    "    L10_ave = (Cd/T_ave)**3*10**6/(60*2250)\n",
    "\n",
    "    print('Lifetime = ', L10, 'hours - with maximum thrust')\n",
    "    print('Lifetime = ', L10_ave, 'hours - with average thrust')\n",
    "    \n",
    "    return\n",
    "\n",
    "bearing(3500, 1442.5, 5)"
   ]
  }
 ],
 "metadata": {
  "interpreter": {
   "hash": "64956ebb179fb7e4055e2e570d36f7b8992ebdf6b7aafd501e0b2c3e59ebc307"
  },
  "kernelspec": {
   "display_name": "Python 3.10.1 64-bit",
   "language": "python",
   "name": "python3"
  },
  "language_info": {
   "codemirror_mode": {
    "name": "ipython",
    "version": 3
   },
   "file_extension": ".py",
   "mimetype": "text/x-python",
   "name": "python",
   "nbconvert_exporter": "python",
   "pygments_lexer": "ipython3",
   "version": "3.10.1"
  },
  "orig_nbformat": 4
 },
 "nbformat": 4,
 "nbformat_minor": 2
}
