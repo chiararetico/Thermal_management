{
 "cells": [
  {
   "cell_type": "code",
   "execution_count": 2,
   "metadata": {},
   "outputs": [],
   "source": [
    "# import scipy\n",
    "import scipy.optimize\n",
    "\n",
    "from math import pi\n",
    "from math import sqrt\n",
    "from math import sin\n",
    "\n",
    "import numpy as np\n",
    "import pandas as pd\n",
    "\n",
    "import ipywidgets as widgets\n",
    "from ipywidgets import interactive\n",
    "from IPython.display import display\n",
    "\n",
    "#import Ipynb_importer\n",
    "#import Chiara as H55\n",
    "\n",
    "from pyDOE import *\n",
    "import numpy as np\n"
   ]
  },
  {
   "cell_type": "code",
   "execution_count": 38,
   "metadata": {},
   "outputs": [],
   "source": [
    "def sizing_code():\n",
    "# Design variables\n",
    "# ---\n",
    "    J_SL = 0.5              #current density [0, 1] 0 the motor is off, 1 full power\n",
    "    d_over_l_SL = 0.5       #form factor [0.1,1]*2 <=> [0.2,2]\n",
    "\n",
    "#Propeller parameters\n",
    "# ---\n",
    "\n",
    "    RPM = 2500\n",
    "    n = RPM/60\n",
    "    R = 1                              #PROPELLER RADIUS\n",
    "    D = 2*R\n",
    "    omega = n*2*np.pi\n",
    "   # Power = 211084                      #Max power\n",
    "   # Thrust = 3187.8                     #Max Thrust\n",
    "   # Torque = Power/(2*np.pi*n)\n",
    "    \n",
    "    Torque = 555.25                      # RMS of the torque (Power/(2*pi*n))  From excel file  \n",
    "    Power = Torque*(2*np.pi*n)           # Power and torque in the cruise phase (most lasting phase) \n",
    "\n",
    "    #Reference motor SIEMENS SP-260D\n",
    "    Torque_ref = 1000                                                                       # (Nm)\n",
    "    RPM_ref = 3750                                                                          # (Tr/min) Optimum RPM\n",
    "    Pj_ref = 10000                                                                          # Joule losses (W)\n",
    "    Pi_ref = 6000                                                                           # Iron losses (W)\n",
    "    Pc_ref = 16000                                                                          # Total losses (W)\n",
    "    m_motor_ref = 50                                                                        # Motor mass (kg)\n",
    "    d_ref = 0.418                                                                           # Diameter (m)\n",
    "    l_ref = 0.300                                                                           # Length (m)\n",
    "    Power_ref = 261000                                                                      # Motor power (W)\n",
    "    f_ref = 750\n",
    "    \n",
    "    #Motor Scaling law (_SL)\n",
    "    # ---\n",
    "    eff_SL = 1\n",
    "    eff_SL_last = 0\n",
    "    k = 0\n",
    "    while(abs(eff_SL-eff_SL_last) > 0.0001): #loop that converge to the efficiency value of the propeller - WHEN IT CONVERGES\n",
    "\n",
    "        k = k+1\n",
    "        Power_corr = Power*(2-eff_SL) #real amount of power needed taking into accont the motor efficiency\n",
    "        Torque_SL = Torque/Torque_ref\n",
    "        Power_SL = Power_corr/Power_ref\n",
    "        omega_SL = Power_SL/Torque_SL\n",
    "\n",
    "        omega_ref = 2*np.pi*RPM_ref/60\n",
    "        Omega = omega_SL*omega_ref\n",
    "\n",
    "        RPM_new = Omega*60/(2*np.pi)\n",
    "\n",
    "        #Hypothesis\n",
    "        B_SL = 1\n",
    "        m_iron_SL = 1\n",
    "        d_SL = ((Torque_SL*d_over_l_SL)/(J_SL*B_SL))**(1/3)\n",
    "        l_SL = d_SL/d_over_l_SL\n",
    "\n",
    "        #parameters\n",
    "        m_motor_SL = d_SL*l_SL\n",
    "        f_SL = omega_SL*d_SL\n",
    "        Pi_SL = (f_SL**1.5)*m_iron_SL   #FROM IMECHE\n",
    "        Pj_SL = (J_SL**2)*d_SL*l_SL     #FROM IMECHE\n",
    "        Pc = Pj_SL*Pj_ref + Pi_SL*Pi_ref\n",
    "        Pc_SL = Pc/Pc_ref\n",
    "        kc_SL = Pc_SL/(d_SL*l_SL)\n",
    "        \n",
    "        #keep last efficiency value and finding the new one for the loop\n",
    "        eff_SL_last = eff_SL\n",
    "        eff_SL = (Power_corr-Pc)/Power_corr\n",
    "        \n",
    "    \n",
    "    \n",
    "    #PRINT THE RESULTS IN THE TABLE\n",
    "    col_names = ['Type', 'Name', 'Value', 'Unit', 'Comment']\n",
    "    df = pd.DataFrame()\n",
    "    df = df.append([{'Type': 'Motor', 'Name': 'Iterations', 'Value': k, 'Unit': '[-]', 'Comment': 'power'}])[col_names]\n",
    "    df = df.append([{'Type': 'Motor', 'Name': 'Propeller power', 'Value': Power, 'Unit': '[W]', 'Comment': 'power'}])[col_names]\n",
    "    df = df.append([{'Type': 'Motor', 'Name': 'Propeller torque', 'Value': Torque, 'Unit': '[Nm]', 'Comment': 'Torque'}])[col_names]\n",
    "    df = df.append([{'Type': 'Motor', 'Name': 'RPM', 'Value': RPM_new, 'Unit': '[tr/min]', 'Comment': 'RPM'}])[col_names]\n",
    "    df = df.append([{'Type': 'Motor', 'Name': 'Magnetic field', 'Value': B_SL, 'Unit': '[Tesla]', 'Comment': 'Magnetic field / Magnetic field ref'}])[col_names]\n",
    "    df = df.append([{'Type': 'Motor', 'Name': 'Current density', 'Value': J_SL, 'Unit': '[A/m^2]', 'Comment': 'j / j_ref'}])[col_names]\n",
    "    df = df.append([{'Type': 'Motor', 'Name': 'D/L', 'Value': d_over_l_SL, 'Unit': '[-]', 'Comment': 'Form factor'}])[col_names]\n",
    "    df = df.append([{'Type': 'Motor', 'Name': 'omega_new', 'Value': Omega, 'Unit': '[rad/s]', 'Comment': 'omega new'}])[col_names]\n",
    "    df = df.append([{'Type': 'Motor', 'Name': 'Motor Diameter', 'Value': d_SL*d_ref, 'Unit': '[m]', 'Comment': 'Diameter / Diameter ref'}])[col_names]\n",
    "    df = df.append([{'Type': 'Motor', 'Name': 'Motor Length', 'Value': l_SL*l_ref, 'Unit': '[m]', 'Comment': 'Length / Length ref'}])[col_names]\n",
    "    df = df.append([{'Type': 'Motor', 'Name': 'Frequency', 'Value': f_SL*f_ref, 'Unit': '[Hz]', 'Comment': 'Frequency / Frequency ref'}])[col_names]\n",
    "    df = df.append([{'Type': 'Motor', 'Name': 'Joule losses', 'Value': Pj_SL*Pj_ref, 'Unit': '[W]', 'Comment': 'Pj / Pj ref'}])[col_names]\n",
    "    df = df.append([{'Type': 'Motor', 'Name': 'Iron losses', 'Value': Pi_SL*Pi_ref, 'Unit': '[W]', 'Comment': 'Pi / P ref'}])[col_names]\n",
    "    df = df.append([{'Type': 'Motor', 'Name': 'Cooling power', 'Value': Pc_SL*Pc_ref, 'Unit': '[W]', 'Comment': 'Pc / Pc ref'}])[col_names]\n",
    "    df = df.append([{'Type': 'Motor', 'Name': 'Cooling system efficiency', 'Value': kc_SL, 'Unit': '[-]', 'Comment': 'kc / kc ref'}])[col_names]\n",
    "    df = df.append([{'Type': 'Motor', 'Name': 'Motor power', 'Value': Power_corr, 'Unit': '[W]', 'Comment': 'Power corrected by the motor efficiency'}])[col_names]\n",
    "    df = df.append([{'Type': 'Motor', 'Name': 'Efficiency', 'Value': eff_SL, 'Unit': '[-]', 'Comment': 'Efficiency of the motor'}])[col_names]\n",
    "    df = df.append([{'Type': 'Motor', 'Name': 'Motor mass', 'Value': m_motor_SL*m_motor_ref, 'Unit': '[kg]', 'Comment': 'm_motor / m_motor ref'}])[col_names]\n",
    "    items = sorted(df['Type'].unique().tolist())\n",
    "    def f(Type):\n",
    "         return df[df['Type']==Type] \n",
    "    widgets.interact(f, Type=items)\n",
    "    return f"
   ]
  },
  {
   "cell_type": "code",
   "execution_count": 39,
   "metadata": {},
   "outputs": [
    {
     "name": "stderr",
     "output_type": "stream",
     "text": [
      "C:\\Users\\Chiara\\AppData\\Local\\Temp\\ipykernel_7336\\1811478786.py:76: FutureWarning: The frame.append method is deprecated and will be removed from pandas in a future version. Use pandas.concat instead.\n",
      "  df = df.append([{'Type': 'Motor', 'Name': 'Iterations', 'Value': k, 'Unit': '[-]', 'Comment': 'power'}])[col_names]\n",
      "C:\\Users\\Chiara\\AppData\\Local\\Temp\\ipykernel_7336\\1811478786.py:77: FutureWarning: The frame.append method is deprecated and will be removed from pandas in a future version. Use pandas.concat instead.\n",
      "  df = df.append([{'Type': 'Motor', 'Name': 'Propeller power', 'Value': Power, 'Unit': '[W]', 'Comment': 'power'}])[col_names]\n",
      "C:\\Users\\Chiara\\AppData\\Local\\Temp\\ipykernel_7336\\1811478786.py:78: FutureWarning: The frame.append method is deprecated and will be removed from pandas in a future version. Use pandas.concat instead.\n",
      "  df = df.append([{'Type': 'Motor', 'Name': 'Propeller torque', 'Value': Torque, 'Unit': '[Nm]', 'Comment': 'Torque'}])[col_names]\n",
      "C:\\Users\\Chiara\\AppData\\Local\\Temp\\ipykernel_7336\\1811478786.py:79: FutureWarning: The frame.append method is deprecated and will be removed from pandas in a future version. Use pandas.concat instead.\n",
      "  df = df.append([{'Type': 'Motor', 'Name': 'RPM', 'Value': RPM_new, 'Unit': '[tr/min]', 'Comment': 'RPM'}])[col_names]\n",
      "C:\\Users\\Chiara\\AppData\\Local\\Temp\\ipykernel_7336\\1811478786.py:80: FutureWarning: The frame.append method is deprecated and will be removed from pandas in a future version. Use pandas.concat instead.\n",
      "  df = df.append([{'Type': 'Motor', 'Name': 'Magnetic field', 'Value': B_SL, 'Unit': '[Tesla]', 'Comment': 'Magnetic field / Magnetic field ref'}])[col_names]\n",
      "C:\\Users\\Chiara\\AppData\\Local\\Temp\\ipykernel_7336\\1811478786.py:81: FutureWarning: The frame.append method is deprecated and will be removed from pandas in a future version. Use pandas.concat instead.\n",
      "  df = df.append([{'Type': 'Motor', 'Name': 'Current density', 'Value': J_SL, 'Unit': '[A/m^2]', 'Comment': 'j / j_ref'}])[col_names]\n",
      "C:\\Users\\Chiara\\AppData\\Local\\Temp\\ipykernel_7336\\1811478786.py:82: FutureWarning: The frame.append method is deprecated and will be removed from pandas in a future version. Use pandas.concat instead.\n",
      "  df = df.append([{'Type': 'Motor', 'Name': 'D/L', 'Value': d_over_l_SL, 'Unit': '[-]', 'Comment': 'Form factor'}])[col_names]\n",
      "C:\\Users\\Chiara\\AppData\\Local\\Temp\\ipykernel_7336\\1811478786.py:83: FutureWarning: The frame.append method is deprecated and will be removed from pandas in a future version. Use pandas.concat instead.\n",
      "  df = df.append([{'Type': 'Motor', 'Name': 'omega_new', 'Value': Omega, 'Unit': '[rad/s]', 'Comment': 'omega new'}])[col_names]\n",
      "C:\\Users\\Chiara\\AppData\\Local\\Temp\\ipykernel_7336\\1811478786.py:84: FutureWarning: The frame.append method is deprecated and will be removed from pandas in a future version. Use pandas.concat instead.\n",
      "  df = df.append([{'Type': 'Motor', 'Name': 'Motor Diameter', 'Value': d_SL*d_ref, 'Unit': '[m]', 'Comment': 'Diameter / Diameter ref'}])[col_names]\n",
      "C:\\Users\\Chiara\\AppData\\Local\\Temp\\ipykernel_7336\\1811478786.py:85: FutureWarning: The frame.append method is deprecated and will be removed from pandas in a future version. Use pandas.concat instead.\n",
      "  df = df.append([{'Type': 'Motor', 'Name': 'Motor Length', 'Value': l_SL*l_ref, 'Unit': '[m]', 'Comment': 'Length / Length ref'}])[col_names]\n",
      "C:\\Users\\Chiara\\AppData\\Local\\Temp\\ipykernel_7336\\1811478786.py:86: FutureWarning: The frame.append method is deprecated and will be removed from pandas in a future version. Use pandas.concat instead.\n",
      "  df = df.append([{'Type': 'Motor', 'Name': 'Frequency', 'Value': f_SL*f_ref, 'Unit': '[Hz]', 'Comment': 'Frequency / Frequency ref'}])[col_names]\n",
      "C:\\Users\\Chiara\\AppData\\Local\\Temp\\ipykernel_7336\\1811478786.py:87: FutureWarning: The frame.append method is deprecated and will be removed from pandas in a future version. Use pandas.concat instead.\n",
      "  df = df.append([{'Type': 'Motor', 'Name': 'Joule losses', 'Value': Pj_SL*Pj_ref, 'Unit': '[W]', 'Comment': 'Pj / Pj ref'}])[col_names]\n",
      "C:\\Users\\Chiara\\AppData\\Local\\Temp\\ipykernel_7336\\1811478786.py:88: FutureWarning: The frame.append method is deprecated and will be removed from pandas in a future version. Use pandas.concat instead.\n",
      "  df = df.append([{'Type': 'Motor', 'Name': 'Iron losses', 'Value': Pi_SL*Pi_ref, 'Unit': '[W]', 'Comment': 'Pi / P ref'}])[col_names]\n",
      "C:\\Users\\Chiara\\AppData\\Local\\Temp\\ipykernel_7336\\1811478786.py:89: FutureWarning: The frame.append method is deprecated and will be removed from pandas in a future version. Use pandas.concat instead.\n",
      "  df = df.append([{'Type': 'Motor', 'Name': 'Cooling power', 'Value': Pc_SL*Pc_ref, 'Unit': '[W]', 'Comment': 'Pc / Pc ref'}])[col_names]\n",
      "C:\\Users\\Chiara\\AppData\\Local\\Temp\\ipykernel_7336\\1811478786.py:90: FutureWarning: The frame.append method is deprecated and will be removed from pandas in a future version. Use pandas.concat instead.\n",
      "  df = df.append([{'Type': 'Motor', 'Name': 'Cooling system efficiency', 'Value': kc_SL, 'Unit': '[-]', 'Comment': 'kc / kc ref'}])[col_names]\n",
      "C:\\Users\\Chiara\\AppData\\Local\\Temp\\ipykernel_7336\\1811478786.py:91: FutureWarning: The frame.append method is deprecated and will be removed from pandas in a future version. Use pandas.concat instead.\n",
      "  df = df.append([{'Type': 'Motor', 'Name': 'Motor power', 'Value': Power_corr, 'Unit': '[W]', 'Comment': 'Power corrected by the motor efficiency'}])[col_names]\n",
      "C:\\Users\\Chiara\\AppData\\Local\\Temp\\ipykernel_7336\\1811478786.py:92: FutureWarning: The frame.append method is deprecated and will be removed from pandas in a future version. Use pandas.concat instead.\n",
      "  df = df.append([{'Type': 'Motor', 'Name': 'Efficiency', 'Value': eff_SL, 'Unit': '[-]', 'Comment': 'Efficiency of the motor'}])[col_names]\n",
      "C:\\Users\\Chiara\\AppData\\Local\\Temp\\ipykernel_7336\\1811478786.py:93: FutureWarning: The frame.append method is deprecated and will be removed from pandas in a future version. Use pandas.concat instead.\n",
      "  df = df.append([{'Type': 'Motor', 'Name': 'Motor mass', 'Value': m_motor_SL*m_motor_ref, 'Unit': '[kg]', 'Comment': 'm_motor / m_motor ref'}])[col_names]\n"
     ]
    },
    {
     "data": {
      "application/vnd.jupyter.widget-view+json": {
       "model_id": "8ff2cb6f89424b02bab1200158f53c9a",
       "version_major": 2,
       "version_minor": 0
      },
      "text/plain": [
       "interactive(children=(Dropdown(description='Type', options=('Motor',), value='Motor'), Output()), _dom_classes…"
      ]
     },
     "metadata": {},
     "output_type": "display_data"
    },
    {
     "data": {
      "text/plain": [
       "<function __main__.sizing_code.<locals>.f(Type)>"
      ]
     },
     "execution_count": 39,
     "metadata": {},
     "output_type": "execute_result"
    }
   ],
   "source": [
    "sizing_code()"
   ]
  }
 ],
 "metadata": {
  "interpreter": {
   "hash": "64956ebb179fb7e4055e2e570d36f7b8992ebdf6b7aafd501e0b2c3e59ebc307"
  },
  "kernelspec": {
   "display_name": "Python 3.10.1 64-bit",
   "language": "python",
   "name": "python3"
  },
  "language_info": {
   "codemirror_mode": {
    "name": "ipython",
    "version": 3
   },
   "file_extension": ".py",
   "mimetype": "text/x-python",
   "name": "python",
   "nbconvert_exporter": "python",
   "pygments_lexer": "ipython3",
   "version": "3.10.1"
  },
  "orig_nbformat": 4
 },
 "nbformat": 4,
 "nbformat_minor": 2
}
