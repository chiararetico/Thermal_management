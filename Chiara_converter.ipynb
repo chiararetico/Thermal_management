{
 "cells": [
  {
   "cell_type": "markdown",
   "metadata": {},
   "source": [
    "#### **DC/DC converter** :\n",
    "\n",
    "The studied DC/DC converter is composed by one film capacitor, two IGBT transistors and one inductance.\n",
    "\n",
    "\n",
    "##### **Losses evaluation**"
   ]
  },
  {
   "cell_type": "code",
   "execution_count": 11,
   "metadata": {},
   "outputs": [],
   "source": [
    "import numpy as np\n",
    "\n",
    "def conduction_losses():\n",
    "    # u_bus     : bus voltage (300V in the paper)\n",
    "    # u_load    : motor voltage (u_motor = u_FEM + u_R = k*omega + rT/k)\n",
    "    # i_load    : motor current (i_motor = Power/u_load)\n",
    "    # f         : frequency of the voltage (in the order of kHz)\n",
    "    # C         : capacitance\n",
    "    # L         : inductance\n",
    "    # Rl\n",
    "    # Rs\n",
    "    # V0        : Voltage drop (1V)\n",
    "    # R0        : Dynamic resistance (20 mOM) \n",
    "\n",
    "    u_bus = 500                                 #bus voltage\n",
    "    u_load = 400                                #motor voltage\n",
    "    i_load = 200000/u_load                      #motor current\n",
    "    f = 30*10**3                                #commutation frequency\n",
    "    #C = 1300*10**(-6)                           #capacitance\n",
    "    L = 50*10**(-6)                             #resistance\n",
    "    V0 = 1                                      #voltage drop both for IGBT and diode\n",
    "    I_SL_IGBT = i_load/80                       \n",
    "    R0_IGBT = 1/I_SL_IGBT*20*10**(-3)           #dynamic resistance igbt\n",
    "    I_SL_diode = i_load/60                      \n",
    "    R0_diode = 1/I_SL_diode*15*10**(-3)         #dynamic resistance diode\n",
    "    Rl = 10**(-1)                               \n",
    "    Rs = 10**(-1)\n",
    "\n",
    "    alpha = u_load/u_bus  # <= 1\n",
    "\n",
    "    # Current filtering equations\n",
    "    Delta_iL = u_bus*(1-alpha)*alpha/(L*f) #inductor\n",
    "\n",
    "    #Current equations\n",
    "    ind_RMS = i_load*np.sqrt(1+1/12*(Delta_iL/i_load)**2)\n",
    "    IGBT_RMS = np.sqrt(alpha)*i_load*np.sqrt(1+1/12*(Delta_iL/i_load)**2)\n",
    "    diode_RMS = np.sqrt(1-alpha)*i_load*np.sqrt(1+1/12*(Delta_iL/i_load)**2)\n",
    "    cap_RMS = np.sqrt(alpha*(1-alpha))*i_load*np.sqrt(1+1/(12*(1-alpha))*(Delta_iL/i_load)**2)\n",
    "\n",
    "    #Conduction losses evaluation\n",
    "    ind_loss = Rl*ind_RMS**2\n",
    "    IGBT_loss = V0*alpha*i_load + R0_IGBT*IGBT_RMS**2\n",
    "    diode_loss = V0*(1-alpha)*i_load + R0_diode*diode_RMS**2\n",
    "    cap_loss = Rs*cap_RMS**2\n",
    "\n",
    "    #Commutation losses evaluation\n",
    "    Com_IGBT = 8.2*10**(-3)/(80*450)*u_bus*i_load*f\n",
    "    Com_diode = 1.32*10**(-3)/(60*600)*u_bus*i_load*f\n",
    "\n",
    "\n",
    "    print('Inductor Conduction Losses = ', ind_loss, 'W')\n",
    "    print('IGBT Conduction Losses = ', IGBT_loss, 'W')\n",
    "    print('Diode Conduction Losses = ', diode_loss, 'W')\n",
    "    print('Capacitor Conduction Losses = ', cap_loss, 'W')\n",
    "\n",
    "    print('IGBT Commutation Losses', Com_IGBT, 'W')\n",
    "    print('Diode Commutation Losses', Com_diode, 'W')\n",
    "    return \n",
    "\n",
    "    "
   ]
  },
  {
   "cell_type": "code",
   "execution_count": 12,
   "metadata": {},
   "outputs": [
    {
     "name": "stdout",
     "output_type": "stream",
     "text": [
      "Inductor Conduction Losses =  25023.703703703704 W\n",
      "IGBT Conduction Losses =  1040.6068148148147 W\n",
      "Diode Conduction Losses =  190.08533333333327 W\n",
      "Capacitor Conduction Losses =  4018.962962962961 W\n",
      "IGBT Commutation Losses 1708.333333333333 W\n",
      "Diode Commutation Losses 275.0 W\n"
     ]
    }
   ],
   "source": [
    "conduction_losses()"
   ]
  }
 ],
 "metadata": {
  "interpreter": {
   "hash": "64956ebb179fb7e4055e2e570d36f7b8992ebdf6b7aafd501e0b2c3e59ebc307"
  },
  "kernelspec": {
   "display_name": "Python 3.10.1 64-bit",
   "language": "python",
   "name": "python3"
  },
  "language_info": {
   "codemirror_mode": {
    "name": "ipython",
    "version": 3
   },
   "file_extension": ".py",
   "mimetype": "text/x-python",
   "name": "python",
   "nbconvert_exporter": "python",
   "pygments_lexer": "ipython3",
   "version": "3.10.1"
  },
  "orig_nbformat": 4
 },
 "nbformat": 4,
 "nbformat_minor": 2
}
